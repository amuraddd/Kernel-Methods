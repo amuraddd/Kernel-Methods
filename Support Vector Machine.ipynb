{
 "cells": [
  {
   "cell_type": "code",
   "execution_count": 1,
   "metadata": {},
   "outputs": [],
   "source": [
    "import numpy as np\n",
    "import pandas as pd\n",
    "from sklearn.datasets import load_svmlight_file\n",
    "from sklearn.model_selection import train_test_split\n",
    "from sklearn.metrics import confusion_matrix\n",
    "import matplotlib.pyplot as plt\n",
    "%matplotlib inline"
   ]
  },
  {
   "cell_type": "code",
   "execution_count": 104,
   "metadata": {},
   "outputs": [],
   "source": [
    "mnist_X, mnist_label = load_svmlight_file('Data/mnist.scale.bz2')\n",
    "mnist_X = mnist_X.toarray()\n",
    "mnist_label = mnist_label.astype(int)\n",
    "\n",
    "X = mnist_X[:]\n",
    "label = mnist_label[:]"
   ]
  },
  {
   "cell_type": "code",
   "execution_count": 139,
   "metadata": {},
   "outputs": [],
   "source": [
    "def binary_converter(y):\n",
    "    \"\"\"\n",
    "    Convert decimal classes to binary\n",
    "    \"\"\"\n",
    "    decimal_to_binary = {0: '0000', 1: '0001', 2: '0010', 3: '0011', 4: '0100', 5: '0101', 6: '0110', \n",
    "                  7: '0111', 8: '1000', 9: '1001'}\n",
    "\n",
    "    ecoc_labels = np.vectorize(decimal_to_binary.get)(y)\n",
    "    Y_1 = np.array([int(e[0]) for e in ecoc_labels])\n",
    "    Y_2 = np.array([int(e[1]) for e in ecoc_labels])\n",
    "    Y_3 = np.array([int(e[2]) for e in ecoc_labels])\n",
    "    Y_4 = np.array([int(e[3]) for e in ecoc_labels])\n",
    "        \n",
    "    return Y_1, Y_2, Y_3, Y_4\n",
    "\n",
    "def decimal_converter(y):\n",
    "    \"\"\"\n",
    "    Binary to decimal\n",
    "    \"\"\"\n",
    "    binary_to_decimal = {'0000': 0, '0001': 1, '0010':2, '0011': 3, '0100': 4, '0101': 5, '0110': 6, \n",
    "                  '0111': 7, '1000': 8, '1001': 9, '1010': 9, '1011': 9, '1100': 9, '1101': 9, \n",
    "                  '1110': 9, '1111': 9}\n",
    "\n",
    "    converted_labels = np.vectorize(binary_to_decimal.get)(y)\n",
    "    \n",
    "    return converted_labels"
   ]
  },
  {
   "cell_type": "code",
   "execution_count": 140,
   "metadata": {},
   "outputs": [],
   "source": [
    "# train test split\n",
    "x_train, x_test, y_train, y_test = train_test_split(X, label,\n",
    "                                                   test_size=0.3,\n",
    "                                                   random_state=0)"
   ]
  },
  {
   "cell_type": "code",
   "execution_count": 146,
   "metadata": {},
   "outputs": [
    {
     "data": {
      "text/plain": [
       "42000"
      ]
     },
     "execution_count": 146,
     "metadata": {},
     "output_type": "execute_result"
    }
   ],
   "source": [
    "len(x_train)"
   ]
  },
  {
   "cell_type": "code",
   "execution_count": 130,
   "metadata": {},
   "outputs": [],
   "source": [
    "y_train1, y_train2, y_train3, y_train4 = binary_converter(y_train) #get labels for ECOC\n",
    "y_test1, y_test2, y_test3, y_test4 = binary_converter(y_test) #get labels for ECOC"
   ]
  },
  {
   "cell_type": "code",
   "execution_count": 131,
   "metadata": {},
   "outputs": [],
   "source": [
    "# x = np.random.rand(100, 100) \n",
    "# y = np.array([-1]*50+[1]*50)\n",
    "# np.random.shuffle(y)"
   ]
  },
  {
   "cell_type": "code",
   "execution_count": 235,
   "metadata": {},
   "outputs": [],
   "source": [
    "class LinearSVM:\n",
    "    def __init__(self, L=1, T=10, n_features=4):\n",
    "        self.L = L\n",
    "        self.T = T\n",
    "        self.w = np.zeros((n_features, ))\n",
    "        \n",
    "    def fit(self, x, y):\n",
    "        \"\"\"\n",
    "        Train Linear SVM(Pegasos) using Subgradient.\n",
    "        \"\"\"\n",
    "        def change_y(vals):\n",
    "            for v in range(len(vals)):                \n",
    "                if vals[v]==1:\n",
    "                    vals[v]=1\n",
    "                if vals[v]==0:\n",
    "                    vals[v]=-1\n",
    "            return vals\n",
    "        \n",
    "        S = len(y)\n",
    "        y = change_y(y)\n",
    "        \n",
    "        for t in range(self.T):\n",
    "            i_t = np.random.randint(0, S-1)\n",
    "            n_t = 1/(self.L*(t+1)) #add 1 to avoid division by zero\n",
    "            w_dot_x = y[i_t]*np.dot(self.w, x[i_t])\n",
    "            if (w_dot_x < 1):\n",
    "                self.w = (1 - n_t*self.L)*self.w + n_t*y[i_t]*x[i_t]\n",
    "            elif (w_dot_x >= 1):\n",
    "                self.w = (1 - n_t*self.L)*self.w\n",
    "                \n",
    "    def predict(self, x):\n",
    "        \"\"\"\n",
    "        Using the trained weights predict on new data.\n",
    "        \"\"\"\n",
    "        predictions = list()\n",
    "        n_samples = x.shape[0]\n",
    "        for i in range(n_samples):\n",
    "            if (np.dot(self.w, x[i]) >= 0):\n",
    "                predictions.append(1)\n",
    "            if (np.dot(self.w, x[i]) < 0):\n",
    "                predictions.append(0)\n",
    "        return predictions        "
   ]
  },
  {
   "cell_type": "code",
   "execution_count": 216,
   "metadata": {
    "jupyter": {
     "source_hidden": true
    }
   },
   "outputs": [],
   "source": [
    "# def linearSVM(x, y, S=4, L=1, T=10):\n",
    "#     w = np.zeros((x.shape[1], ))\n",
    "#     for t in range(T):\n",
    "#         i_t = np.random.randint(0, x.shape[0])\n",
    "#         n_t = 1/(L*(t+1)) #add 1 to avoid division by zero\n",
    "#         if (y[i_t]*np.dot(w, x[i_t]) < 1):\n",
    "#             w = (1 - n_t*L)*w + n_t*y[i_t]*x[i_t]\n",
    "#         elif ((y[i_t]*np.dot(w, x[i_t])) >= 1):\n",
    "#             w = (1 - n_t*L)*w\n",
    "#     return w\n",
    "\n",
    "# linearSVM(x, y)"
   ]
  },
  {
   "cell_type": "code",
   "execution_count": 252,
   "metadata": {},
   "outputs": [],
   "source": [
    "# S - number of samples in the dataset - used to get an idex uniformly at random \n",
    "# T - Number of iterations to be done over the dataset\n",
    "model_1 = LinearSVM(L=0.01, T=5000000, n_features=780)\n",
    "model_2 = LinearSVM(L=0.01, T=5000000, n_features=780)\n",
    "model_3 = LinearSVM(L=0.01, T=5000000, n_features=780)\n",
    "model_4 = LinearSVM(L=0.01, T=5000000, n_features=780)"
   ]
  },
  {
   "cell_type": "code",
   "execution_count": 253,
   "metadata": {},
   "outputs": [],
   "source": [
    "model_1.fit(x_train, y_train1)\n",
    "model_2.fit(x_train, y_train2)\n",
    "model_3.fit(x_train, y_train3)\n",
    "model_4.fit(x_train, y_train4)"
   ]
  },
  {
   "cell_type": "code",
   "execution_count": 254,
   "metadata": {},
   "outputs": [],
   "source": [
    "pred_1 = model_1.predict(x_test)\n",
    "pred_2 = model_2.predict(x_test)\n",
    "pred_3 = model_3.predict(x_test)\n",
    "pred_4 = model_4.predict(x_test)"
   ]
  },
  {
   "cell_type": "code",
   "execution_count": 255,
   "metadata": {},
   "outputs": [],
   "source": [
    "meta_test = [y_test1, y_test2, y_test3, y_test4]\n",
    "test_array = [''.join(str(item) for item in column) for column in zip(*meta_test)]\n",
    "test_array = decimal_converter(test_array)\n",
    "\n",
    "\n",
    "meta_pred = [pred_1, pred_2, pred_3, pred_4]\n",
    "pred_array = [''.join(str(item) for item in column) for column in zip(*meta_pred)]\n",
    "pred_array = decimal_converter(pred_array)"
   ]
  },
  {
   "cell_type": "code",
   "execution_count": 256,
   "metadata": {},
   "outputs": [],
   "source": [
    "accuracy= list()\n",
    "for i in range(len(pred_array)):\n",
    "    if pred_array[i] == test_array[i]:\n",
    "        accuracy.append(1)\n",
    "    else:\n",
    "        accuracy.append(0)"
   ]
  },
  {
   "cell_type": "code",
   "execution_count": 257,
   "metadata": {},
   "outputs": [
    {
     "data": {
      "text/plain": [
       "69.45"
      ]
     },
     "execution_count": 257,
     "metadata": {},
     "output_type": "execute_result"
    }
   ],
   "source": [
    "sum(accuracy)/len(accuracy)*100"
   ]
  },
  {
   "cell_type": "code",
   "execution_count": 259,
   "metadata": {},
   "outputs": [
    {
     "data": {
      "text/plain": [
       "array([[1506,   43,  115,   28,   59,  137,   67,    9,  292,   71],\n",
       "       [  55, 1937,   23,  249,   29,  301,    3,   52,  200,  140],\n",
       "       [ 101,   11, 1327,   86,   10,   19,  127,   18,   44,    9],\n",
       "       [  10,   34,  101, 1275,    1,   40,    1,  262,   25,   27],\n",
       "       [  77,    3,   17,    5, 1144,  169,  110,   17,   57,   22],\n",
       "       [   7,    7,    5,   19,  188,  657,    7,  215,   46,  168],\n",
       "       [  32,    3,   85,   17,   74,   51, 1425,   30,   11,   11],\n",
       "       [   0,    3,   17,   81,    5,   67,    3, 1130,    3,   35],\n",
       "       [  18,   17,   38,   11,   30,   54,    9,    4,  919,  120],\n",
       "       [   6,   12,   21,   76,  190,   96,    9,  132,  190, 1181]],\n",
       "      dtype=int64)"
      ]
     },
     "execution_count": 259,
     "metadata": {},
     "output_type": "execute_result"
    }
   ],
   "source": [
    "confusion_matrix(pred_array, test_array)"
   ]
  },
  {
   "cell_type": "code",
   "execution_count": 260,
   "metadata": {},
   "outputs": [
    {
     "data": {
      "text/html": [
       "<div>\n",
       "<style scoped>\n",
       "    .dataframe tbody tr th:only-of-type {\n",
       "        vertical-align: middle;\n",
       "    }\n",
       "\n",
       "    .dataframe tbody tr th {\n",
       "        vertical-align: top;\n",
       "    }\n",
       "\n",
       "    .dataframe thead th {\n",
       "        text-align: right;\n",
       "    }\n",
       "</style>\n",
       "<table border=\"1\" class=\"dataframe\">\n",
       "  <thead>\n",
       "    <tr style=\"text-align: right;\">\n",
       "      <th>col_0</th>\n",
       "      <th>0</th>\n",
       "      <th>1</th>\n",
       "      <th>2</th>\n",
       "      <th>3</th>\n",
       "      <th>4</th>\n",
       "      <th>5</th>\n",
       "      <th>6</th>\n",
       "      <th>7</th>\n",
       "      <th>8</th>\n",
       "      <th>9</th>\n",
       "    </tr>\n",
       "    <tr>\n",
       "      <th>row_0</th>\n",
       "      <th></th>\n",
       "      <th></th>\n",
       "      <th></th>\n",
       "      <th></th>\n",
       "      <th></th>\n",
       "      <th></th>\n",
       "      <th></th>\n",
       "      <th></th>\n",
       "      <th></th>\n",
       "      <th></th>\n",
       "    </tr>\n",
       "  </thead>\n",
       "  <tbody>\n",
       "    <tr>\n",
       "      <th>0</th>\n",
       "      <td>1506</td>\n",
       "      <td>43</td>\n",
       "      <td>115</td>\n",
       "      <td>28</td>\n",
       "      <td>59</td>\n",
       "      <td>137</td>\n",
       "      <td>67</td>\n",
       "      <td>9</td>\n",
       "      <td>292</td>\n",
       "      <td>71</td>\n",
       "    </tr>\n",
       "    <tr>\n",
       "      <th>1</th>\n",
       "      <td>55</td>\n",
       "      <td>1937</td>\n",
       "      <td>23</td>\n",
       "      <td>249</td>\n",
       "      <td>29</td>\n",
       "      <td>301</td>\n",
       "      <td>3</td>\n",
       "      <td>52</td>\n",
       "      <td>200</td>\n",
       "      <td>140</td>\n",
       "    </tr>\n",
       "    <tr>\n",
       "      <th>2</th>\n",
       "      <td>101</td>\n",
       "      <td>11</td>\n",
       "      <td>1327</td>\n",
       "      <td>86</td>\n",
       "      <td>10</td>\n",
       "      <td>19</td>\n",
       "      <td>127</td>\n",
       "      <td>18</td>\n",
       "      <td>44</td>\n",
       "      <td>9</td>\n",
       "    </tr>\n",
       "    <tr>\n",
       "      <th>3</th>\n",
       "      <td>10</td>\n",
       "      <td>34</td>\n",
       "      <td>101</td>\n",
       "      <td>1275</td>\n",
       "      <td>1</td>\n",
       "      <td>40</td>\n",
       "      <td>1</td>\n",
       "      <td>262</td>\n",
       "      <td>25</td>\n",
       "      <td>27</td>\n",
       "    </tr>\n",
       "    <tr>\n",
       "      <th>4</th>\n",
       "      <td>77</td>\n",
       "      <td>3</td>\n",
       "      <td>17</td>\n",
       "      <td>5</td>\n",
       "      <td>1144</td>\n",
       "      <td>169</td>\n",
       "      <td>110</td>\n",
       "      <td>17</td>\n",
       "      <td>57</td>\n",
       "      <td>22</td>\n",
       "    </tr>\n",
       "    <tr>\n",
       "      <th>5</th>\n",
       "      <td>7</td>\n",
       "      <td>7</td>\n",
       "      <td>5</td>\n",
       "      <td>19</td>\n",
       "      <td>188</td>\n",
       "      <td>657</td>\n",
       "      <td>7</td>\n",
       "      <td>215</td>\n",
       "      <td>46</td>\n",
       "      <td>168</td>\n",
       "    </tr>\n",
       "    <tr>\n",
       "      <th>6</th>\n",
       "      <td>32</td>\n",
       "      <td>3</td>\n",
       "      <td>85</td>\n",
       "      <td>17</td>\n",
       "      <td>74</td>\n",
       "      <td>51</td>\n",
       "      <td>1425</td>\n",
       "      <td>30</td>\n",
       "      <td>11</td>\n",
       "      <td>11</td>\n",
       "    </tr>\n",
       "    <tr>\n",
       "      <th>7</th>\n",
       "      <td>0</td>\n",
       "      <td>3</td>\n",
       "      <td>17</td>\n",
       "      <td>81</td>\n",
       "      <td>5</td>\n",
       "      <td>67</td>\n",
       "      <td>3</td>\n",
       "      <td>1130</td>\n",
       "      <td>3</td>\n",
       "      <td>35</td>\n",
       "    </tr>\n",
       "    <tr>\n",
       "      <th>8</th>\n",
       "      <td>18</td>\n",
       "      <td>17</td>\n",
       "      <td>38</td>\n",
       "      <td>11</td>\n",
       "      <td>30</td>\n",
       "      <td>54</td>\n",
       "      <td>9</td>\n",
       "      <td>4</td>\n",
       "      <td>919</td>\n",
       "      <td>120</td>\n",
       "    </tr>\n",
       "    <tr>\n",
       "      <th>9</th>\n",
       "      <td>6</td>\n",
       "      <td>12</td>\n",
       "      <td>21</td>\n",
       "      <td>76</td>\n",
       "      <td>190</td>\n",
       "      <td>96</td>\n",
       "      <td>9</td>\n",
       "      <td>132</td>\n",
       "      <td>190</td>\n",
       "      <td>1181</td>\n",
       "    </tr>\n",
       "  </tbody>\n",
       "</table>\n",
       "</div>"
      ],
      "text/plain": [
       "col_0     0     1     2     3     4    5     6     7    8     9\n",
       "row_0                                                          \n",
       "0      1506    43   115    28    59  137    67     9  292    71\n",
       "1        55  1937    23   249    29  301     3    52  200   140\n",
       "2       101    11  1327    86    10   19   127    18   44     9\n",
       "3        10    34   101  1275     1   40     1   262   25    27\n",
       "4        77     3    17     5  1144  169   110    17   57    22\n",
       "5         7     7     5    19   188  657     7   215   46   168\n",
       "6        32     3    85    17    74   51  1425    30   11    11\n",
       "7         0     3    17    81     5   67     3  1130    3    35\n",
       "8        18    17    38    11    30   54     9     4  919   120\n",
       "9         6    12    21    76   190   96     9   132  190  1181"
      ]
     },
     "execution_count": 260,
     "metadata": {},
     "output_type": "execute_result"
    }
   ],
   "source": [
    "pd.crosstab(pred_array, test_array)"
   ]
  },
  {
   "cell_type": "code",
   "execution_count": null,
   "metadata": {},
   "outputs": [],
   "source": []
  }
 ],
 "metadata": {
  "kernelspec": {
   "display_name": "Python 3",
   "language": "python",
   "name": "python3"
  },
  "language_info": {
   "codemirror_mode": {
    "name": "ipython",
    "version": 3
   },
   "file_extension": ".py",
   "mimetype": "text/x-python",
   "name": "python",
   "nbconvert_exporter": "python",
   "pygments_lexer": "ipython3",
   "version": "3.8.5"
  }
 },
 "nbformat": 4,
 "nbformat_minor": 5
}
